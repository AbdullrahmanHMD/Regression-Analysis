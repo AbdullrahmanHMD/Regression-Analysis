{
  "nbformat": 4,
  "nbformat_minor": 0,
  "metadata": {
    "colab": {
      "name": "Untitled2.ipynb",
      "provenance": [],
      "toc_visible": true
    },
    "kernelspec": {
      "name": "python3",
      "display_name": "Python 3"
    },
    "language_info": {
      "name": "python"
    }
  },
  "cells": [
    {
      "cell_type": "markdown",
      "metadata": {
        "id": "C5B69BZPAse3"
      },
      "source": [
        "# A class containing utility functions to help with analysing the regression functions"
      ]
    },
    {
      "cell_type": "markdown",
      "metadata": {
        "id": "s8hu-Vz6BkwA"
      },
      "source": [
        "#### Imports"
      ]
    },
    {
      "cell_type": "code",
      "metadata": {
        "id": "26fK-FbuBi_-"
      },
      "source": [
        "import numpy as np\n",
        "import math"
      ],
      "execution_count": 2,
      "outputs": []
    },
    {
      "cell_type": "markdown",
      "metadata": {
        "id": "z19cZVWYBCWX"
      },
      "source": [
        "### RMSE: Root Mean Squared Error.\n",
        "##### Y:        The true labels of a data set.\n",
        "##### Y_pred:   The predicted labels of a data set.\n",
        "##### N:        The number of points in the data set whose labels are Y.   "
      ]
    },
    {
      "cell_type": "code",
      "metadata": {
        "id": "LBW40lmFAU1Z"
      },
      "source": [
        "def RMSE(Y, Y_pred, N):\n",
        "    delta_Y = np.subtract(Y, Y_pred)\n",
        "    delta_Y = np.square(delta_Y)\n",
        "    delta_Y = np.sum(delta_Y)\n",
        "\n",
        "    rmse = np.divide(delta_Y, N)\n",
        "    rmse = math.sqrt(rmse)\n",
        "\n",
        "    return rmse"
      ],
      "execution_count": 3,
      "outputs": []
    }
  ]
}